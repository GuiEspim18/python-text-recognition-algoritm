{
 "cells": [
  {
   "cell_type": "code",
   "execution_count": 94,
   "metadata": {},
   "outputs": [],
   "source": [
    "import string"
   ]
  },
  {
   "cell_type": "code",
   "execution_count": 95,
   "metadata": {},
   "outputs": [],
   "source": [
    "train_data: dict[str, int] = {\n",
    "    \"amo\": 1, \"incrível\": 1, \"feliz\": 1, \"fantástica\": 1, \"boa\": 1, \"excelente\": 1,\n",
    "    \"maravilhosa\": 1, \"ótima\": 1, \"perfeita\": 1, \"adoro\": 1, \"fantástico\": 1, \"excepcional\": 1,\n",
    "    \"satisfatório\": 1, \"agradável\": 1, \"espetacular\": 1, \"formidável\": 1, \"magnífico\": 1,\n",
    "    \"impressionante\": 1, \"positivo\": 1, \"encantador\": 1, \"fabuloso\": 1, \"memorável\": 1,\n",
    "    \"inspirador\": 1, \"grande\": 1, \"delicioso\": 1, \"extraordinário\": 1,\n",
    "    \"odiei\": -1, \"horrível\": -1, \"desapontado\": -1, \"péssimo\": -1, \"horroroso\": -1,\n",
    "    \"terrível\": -1, \"lamentável\": -1, \"insuportável\": -1, \"desagradável\": -1, \"repugnante\": -1,\n",
    "    \"irritante\": -1, \"decepcionante\": -1, \"abominável\": -1, \"detesto\": -1, \"fraco\": -1,\n",
    "    \"ridículo\": -1, \"desprezível\": -1, \"destruidor\": -1, \"deplorável\": -1, \"inaceitável\": -1,\n",
    "    \"desgostoso\": -1, \"insucesso\": -1, \"frustrante\": -1, \"catástrofe\": -1\n",
    "}"
   ]
  },
  {
   "cell_type": "code",
   "execution_count": 96,
   "metadata": {},
   "outputs": [],
   "source": [
    "statements: list[str] = [\n",
    "    \"Odiei este filme, foi horrível\",\n",
    "    \"Péssimo produto, fiquei desapontado\",\n",
    "    \"Viagem fantástica, voltei super feliz\",\n",
    "    \"Experiência incrível\",\n",
    "    \"Nossa viagem foi uma grande catástrofe\"\n",
    "]"
   ]
  },
  {
   "cell_type": "code",
   "execution_count": 97,
   "metadata": {},
   "outputs": [],
   "source": [
    "def preprocess(text: str) -> list[str]:\n",
    "    return text.lower().translate(str.maketrans('', '', string.punctuation)).split()\n"
   ]
  },
  {
   "cell_type": "code",
   "execution_count": 99,
   "metadata": {},
   "outputs": [
    {
     "name": "stdout",
     "output_type": "stream",
     "text": [
      "Odiei este filme, foi horrível\n",
      "Sentimento: negativa\n",
      "\n",
      "Péssimo produto, fiquei desapontado\n",
      "Sentimento: negativa\n",
      "\n",
      "Viagem fantástica, voltei super feliz\n",
      "Sentimento: positiva\n",
      "\n",
      "Experiência incrível\n",
      "Sentimento: positiva\n",
      "\n",
      "Nossa viagem foi uma grande catástrofe\n",
      "Sentimento: negativa\n",
      "\n"
     ]
    }
   ],
   "source": [
    "for statement in statements:\n",
    "    words = preprocess(statement)\n",
    "    rate = sum(train_data.get(word, 0) for word in words)\n",
    "    sentiment = \"positiva\" if rate > 0 else \"negativa\"\n",
    "    print(f\"{statement}\\nSentimento: {sentiment}\\n\")"
   ]
  },
  {
   "cell_type": "code",
   "execution_count": 108,
   "metadata": {},
   "outputs": [
    {
     "name": "stderr",
     "output_type": "stream",
     "text": [
      "Some weights of BertForSequenceClassification were not initialized from the model checkpoint at bert-base-uncased and are newly initialized: ['classifier.bias', 'classifier.weight']\n",
      "You should probably TRAIN this model on a down-stream task to be able to use it for predictions and inference.\n"
     ]
    },
    {
     "name": "stdout",
     "output_type": "stream",
     "text": [
      "Classe prevista: 0\n"
     ]
    }
   ],
   "source": [
    "from transformers import BertTokenizer, BertForSequenceClassification\n",
    "import torch\n",
    "\n",
    "# Carregar o modelo e o tokenizador BERT\n",
    "tokenizer = BertTokenizer.from_pretrained('bert-base-uncased')\n",
    "model = BertForSequenceClassification.from_pretrained('bert-base-uncased')\n",
    "\n",
    "def analyze_complex_sentence(sentence):\n",
    "    # Tokenizar a frase\n",
    "    inputs = tokenizer(sentence, return_tensors='pt')\n",
    "    \n",
    "    # Fazer a previsão\n",
    "    with torch.no_grad():\n",
    "        outputs = model(**inputs)\n",
    "    \n",
    "    # Extrair a previsão\n",
    "    logits = outputs.logits\n",
    "    predicted_class = torch.argmax(logits, dim=-1).item()\n",
    "    \n",
    "    return predicted_class\n",
    "\n",
    "# Exemplo de frase complexa\n",
    "complex_sentence = \"Apesar de ter encontrado algumas dificuldades, a experiência foi enriquecedora e gratificante.\"\n",
    "print(f'Classe prevista: {analyze_complex_sentence(complex_sentence)}')\n"
   ]
  }
 ],
 "metadata": {
  "kernelspec": {
   "display_name": "Python 3",
   "language": "python",
   "name": "python3"
  },
  "language_info": {
   "codemirror_mode": {
    "name": "ipython",
    "version": 3
   },
   "file_extension": ".py",
   "mimetype": "text/x-python",
   "name": "python",
   "nbconvert_exporter": "python",
   "pygments_lexer": "ipython3",
   "version": "3.12.0"
  }
 },
 "nbformat": 4,
 "nbformat_minor": 2
}
